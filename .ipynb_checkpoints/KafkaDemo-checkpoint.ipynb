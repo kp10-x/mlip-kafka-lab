{
 "cells": [
  {
   "cell_type": "markdown",
   "id": "59b2d799",
   "metadata": {},
   "source": [
    "# Kafka Demo\n",
    "\n",
    "### Connect to Kafka Broker Server \n",
    "```\n",
    "ssh -L <local_port>:localhost:<remote_port> <user>@<remote_server> -NTf\n",
    "```\n",
    "Find how to connect to Kafka server on Canvas lab 2 assignment page.\n",
    "\n",
    "### To kill connection\n",
    "```\n",
    "lsof -ti:<local_port> | xargs kill -9\n",
    "```\n",
    "\n",
    "### Setup\n",
    "```\n",
    "python -m pip install kafka-python\n",
    "```"
   ]
  },
  {
   "cell_type": "code",
   "execution_count": 2,
   "id": "703e5def-0604-48db-998f-4e0cd94e5af8",
   "metadata": {},
   "outputs": [
    {
     "name": "stdout",
     "output_type": "stream",
     "text": [
      "Requirement already satisfied: kafka-python in /opt/anaconda3/lib/python3.12/site-packages (2.0.2)\n"
     ]
    }
   ],
   "source": [
    "!python -m pip install kafka-python"
   ]
  },
  {
   "cell_type": "code",
   "execution_count": 4,
   "id": "560fd2bb",
   "metadata": {
    "ExecuteTime": {
     "end_time": "2024-09-03T20:53:48.295316Z",
     "start_time": "2024-09-03T20:53:48.290645Z"
    }
   },
   "outputs": [],
   "source": [
    "import os\n",
    "from datetime import datetime\n",
    "from json import dumps, loads\n",
    "from time import sleep\n",
    "from random import randint\n",
    "from kafka import KafkaConsumer, KafkaProducer\n",
    "\n",
    "# Update this for your own recitation section :)\n",
    "topic = 'recitation-b' # x could be b, c, d, e, f"
   ]
  },
  {
   "cell_type": "markdown",
   "id": "0eb9dd6f",
   "metadata": {},
   "source": [
    "### Producer Mode -> Writes Data to Broker"
   ]
  },
  {
   "cell_type": "code",
   "execution_count": 7,
   "id": "aa4679a1",
   "metadata": {},
   "outputs": [
    {
     "name": "stdout",
     "output_type": "stream",
     "text": [
      "Writing to Kafka Broker\n",
      "Writing: 2025-01-23 13:03:54,London,22ºC\n",
      "Writing: 2025-01-23 13:03:55,Tokyo,22ºC\n",
      "Writing: 2025-01-23 13:03:56,Pittsburgh,32ºC\n",
      "Writing: 2025-01-23 13:03:57,London,18ºC\n",
      "Writing: 2025-01-23 13:03:58,Tokyo,31ºC\n",
      "Writing: 2025-01-23 13:03:59,Bangalore,19ºC\n",
      "Writing: 2025-01-23 13:04:00,London,24ºC\n",
      "Writing: 2025-01-23 13:04:01,Pittsburgh,28ºC\n",
      "Writing: 2025-01-23 13:04:02,Tokyo,22ºC\n",
      "Writing: 2025-01-23 13:04:03,Pittsburgh,27ºC\n"
     ]
    }
   ],
   "source": [
    "# Create a producer to write data to kafka\n",
    "# Ref: https://kafka-python.readthedocs.io/en/master/apidoc/KafkaProducer.html\n",
    "\n",
    "# [TODO]: Replace '...' with the address of your Kafka bootstrap server\n",
    "producer = KafkaProducer(bootstrap_servers=['localhost:9092'],\n",
    "                        value_serializer=lambda x: dumps(x).encode('utf-8'))\n",
    "\n",
    "# [TODO]: Add cities of your choice\n",
    "cities = [\"Pittsburgh\", \"London\", \"Bangalore\", \"Tokyo\"]\n",
    "\n",
    "# Write data via the producer\n",
    "print(\"Writing to Kafka Broker\")\n",
    "for i in range(10):\n",
    "    data = f'{datetime.now().strftime(\"%Y-%m-%d %H:%M:%S\")},{cities[randint(0,len(cities)-1)]},{randint(18, 32)}ºC'\n",
    "    print(f\"Writing: {data}\")\n",
    "    producer.send(topic=topic, value=data)\n",
    "    sleep(1)"
   ]
  },
  {
   "cell_type": "markdown",
   "id": "a45bbace",
   "metadata": {},
   "source": [
    "### Consumer Mode -> Reads Data from Broker"
   ]
  },
  {
   "cell_type": "code",
   "execution_count": 14,
   "id": "a5e2f59f",
   "metadata": {},
   "outputs": [
    {
     "name": "stdout",
     "output_type": "stream",
     "text": [
      "Reading Kafka Broker\n",
      "2025-01-23 13:10:03,Pittsburgh,21ºC\n",
      "2025-01-23 13:10:04,Austin,22ºC\n",
      "2025-01-23 13:10:05,Pittsburgh,32ºC\n",
      "2025-01-23 13:10:06,Fort Worth,32ºC\n",
      "2025-01-23 13:10:07,Austin,30ºC\n",
      "2025-01-23 13:10:08,Columbus,24ºC\n",
      "2025-01-23 13:10:09,Fort Worth,21ºC\n",
      "2025-01-23 13:10:10,Pittsburgh,29ºC\n",
      "2025-01-23 13:10:11,Pittsburgh,23ºC\n",
      "2025-01-23 13:10:12,Fort Worth,19ºC\n"
     ]
    },
    {
     "ename": "KeyboardInterrupt",
     "evalue": "",
     "output_type": "error",
     "traceback": [
      "\u001b[0;31m---------------------------------------------------------------------------\u001b[0m",
      "\u001b[0;31mKeyboardInterrupt\u001b[0m                         Traceback (most recent call last)",
      "Cell \u001b[0;32mIn[14], line 16\u001b[0m\n\u001b[1;32m      5\u001b[0m consumer \u001b[38;5;241m=\u001b[39m KafkaConsumer(\n\u001b[1;32m      6\u001b[0m     topic,\n\u001b[1;32m      7\u001b[0m     bootstrap_servers\u001b[38;5;241m=\u001b[39m[\u001b[38;5;124m'\u001b[39m\u001b[38;5;124mlocalhost:9092\u001b[39m\u001b[38;5;124m'\u001b[39m],\n\u001b[0;32m   (...)\u001b[0m\n\u001b[1;32m     12\u001b[0m     auto_commit_interval_ms\u001b[38;5;241m=\u001b[39m\u001b[38;5;241m1000\u001b[39m\n\u001b[1;32m     13\u001b[0m )\n\u001b[1;32m     15\u001b[0m \u001b[38;5;28mprint\u001b[39m(\u001b[38;5;124m'\u001b[39m\u001b[38;5;124mReading Kafka Broker\u001b[39m\u001b[38;5;124m'\u001b[39m)\n\u001b[0;32m---> 16\u001b[0m \u001b[38;5;28;01mfor\u001b[39;00m message \u001b[38;5;129;01min\u001b[39;00m consumer:\n\u001b[1;32m     17\u001b[0m     message \u001b[38;5;241m=\u001b[39m message\u001b[38;5;241m.\u001b[39mvalue\u001b[38;5;241m.\u001b[39mdecode()\n\u001b[1;32m     18\u001b[0m     \u001b[38;5;66;03m# Default message.value type is bytes!\u001b[39;00m\n",
      "File \u001b[0;32m/opt/anaconda3/envs/mlipl2/lib/python3.10/site-packages/kafka/consumer/group.py:1193\u001b[0m, in \u001b[0;36mKafkaConsumer.__next__\u001b[0;34m(self)\u001b[0m\n\u001b[1;32m   1191\u001b[0m     \u001b[38;5;28;01mreturn\u001b[39;00m \u001b[38;5;28mself\u001b[39m\u001b[38;5;241m.\u001b[39mnext_v1()\n\u001b[1;32m   1192\u001b[0m \u001b[38;5;28;01melse\u001b[39;00m:\n\u001b[0;32m-> 1193\u001b[0m     \u001b[38;5;28;01mreturn\u001b[39;00m \u001b[38;5;28;43mself\u001b[39;49m\u001b[38;5;241;43m.\u001b[39;49m\u001b[43mnext_v2\u001b[49m\u001b[43m(\u001b[49m\u001b[43m)\u001b[49m\n",
      "File \u001b[0;32m/opt/anaconda3/envs/mlipl2/lib/python3.10/site-packages/kafka/consumer/group.py:1201\u001b[0m, in \u001b[0;36mKafkaConsumer.next_v2\u001b[0;34m(self)\u001b[0m\n\u001b[1;32m   1199\u001b[0m     \u001b[38;5;28mself\u001b[39m\u001b[38;5;241m.\u001b[39m_iterator \u001b[38;5;241m=\u001b[39m \u001b[38;5;28mself\u001b[39m\u001b[38;5;241m.\u001b[39m_message_generator_v2()\n\u001b[1;32m   1200\u001b[0m \u001b[38;5;28;01mtry\u001b[39;00m:\n\u001b[0;32m-> 1201\u001b[0m     \u001b[38;5;28;01mreturn\u001b[39;00m \u001b[38;5;28;43mnext\u001b[39;49m\u001b[43m(\u001b[49m\u001b[38;5;28;43mself\u001b[39;49m\u001b[38;5;241;43m.\u001b[39;49m\u001b[43m_iterator\u001b[49m\u001b[43m)\u001b[49m\n\u001b[1;32m   1202\u001b[0m \u001b[38;5;28;01mexcept\u001b[39;00m \u001b[38;5;167;01mStopIteration\u001b[39;00m:\n\u001b[1;32m   1203\u001b[0m     \u001b[38;5;28mself\u001b[39m\u001b[38;5;241m.\u001b[39m_iterator \u001b[38;5;241m=\u001b[39m \u001b[38;5;28;01mNone\u001b[39;00m\n",
      "File \u001b[0;32m/opt/anaconda3/envs/mlipl2/lib/python3.10/site-packages/kafka/consumer/group.py:1116\u001b[0m, in \u001b[0;36mKafkaConsumer._message_generator_v2\u001b[0;34m(self)\u001b[0m\n\u001b[1;32m   1114\u001b[0m \u001b[38;5;28;01mdef\u001b[39;00m \u001b[38;5;21m_message_generator_v2\u001b[39m(\u001b[38;5;28mself\u001b[39m):\n\u001b[1;32m   1115\u001b[0m     timeout_ms \u001b[38;5;241m=\u001b[39m \u001b[38;5;241m1000\u001b[39m \u001b[38;5;241m*\u001b[39m (\u001b[38;5;28mself\u001b[39m\u001b[38;5;241m.\u001b[39m_consumer_timeout \u001b[38;5;241m-\u001b[39m time\u001b[38;5;241m.\u001b[39mtime())\n\u001b[0;32m-> 1116\u001b[0m     record_map \u001b[38;5;241m=\u001b[39m \u001b[38;5;28;43mself\u001b[39;49m\u001b[38;5;241;43m.\u001b[39;49m\u001b[43mpoll\u001b[49m\u001b[43m(\u001b[49m\u001b[43mtimeout_ms\u001b[49m\u001b[38;5;241;43m=\u001b[39;49m\u001b[43mtimeout_ms\u001b[49m\u001b[43m,\u001b[49m\u001b[43m \u001b[49m\u001b[43mupdate_offsets\u001b[49m\u001b[38;5;241;43m=\u001b[39;49m\u001b[38;5;28;43;01mFalse\u001b[39;49;00m\u001b[43m)\u001b[49m\n\u001b[1;32m   1117\u001b[0m     \u001b[38;5;28;01mfor\u001b[39;00m tp, records \u001b[38;5;129;01min\u001b[39;00m six\u001b[38;5;241m.\u001b[39miteritems(record_map):\n\u001b[1;32m   1118\u001b[0m         \u001b[38;5;66;03m# Generators are stateful, and it is possible that the tp / records\u001b[39;00m\n\u001b[1;32m   1119\u001b[0m         \u001b[38;5;66;03m# here may become stale during iteration -- i.e., we seek to a\u001b[39;00m\n\u001b[1;32m   1120\u001b[0m         \u001b[38;5;66;03m# different offset, pause consumption, or lose assignment.\u001b[39;00m\n\u001b[1;32m   1121\u001b[0m         \u001b[38;5;28;01mfor\u001b[39;00m record \u001b[38;5;129;01min\u001b[39;00m records:\n\u001b[1;32m   1122\u001b[0m             \u001b[38;5;66;03m# is_fetchable(tp) should handle assignment changes and offset\u001b[39;00m\n\u001b[1;32m   1123\u001b[0m             \u001b[38;5;66;03m# resets; for all other changes (e.g., seeks) we'll rely on the\u001b[39;00m\n\u001b[1;32m   1124\u001b[0m             \u001b[38;5;66;03m# outer function destroying the existing iterator/generator\u001b[39;00m\n\u001b[1;32m   1125\u001b[0m             \u001b[38;5;66;03m# via self._iterator = None\u001b[39;00m\n",
      "File \u001b[0;32m/opt/anaconda3/envs/mlipl2/lib/python3.10/site-packages/kafka/consumer/group.py:655\u001b[0m, in \u001b[0;36mKafkaConsumer.poll\u001b[0;34m(self, timeout_ms, max_records, update_offsets)\u001b[0m\n\u001b[1;32m    653\u001b[0m remaining \u001b[38;5;241m=\u001b[39m timeout_ms\n\u001b[1;32m    654\u001b[0m \u001b[38;5;28;01mwhile\u001b[39;00m \u001b[38;5;28;01mTrue\u001b[39;00m:\n\u001b[0;32m--> 655\u001b[0m     records \u001b[38;5;241m=\u001b[39m \u001b[38;5;28;43mself\u001b[39;49m\u001b[38;5;241;43m.\u001b[39;49m\u001b[43m_poll_once\u001b[49m\u001b[43m(\u001b[49m\u001b[43mremaining\u001b[49m\u001b[43m,\u001b[49m\u001b[43m \u001b[49m\u001b[43mmax_records\u001b[49m\u001b[43m,\u001b[49m\u001b[43m \u001b[49m\u001b[43mupdate_offsets\u001b[49m\u001b[38;5;241;43m=\u001b[39;49m\u001b[43mupdate_offsets\u001b[49m\u001b[43m)\u001b[49m\n\u001b[1;32m    656\u001b[0m     \u001b[38;5;28;01mif\u001b[39;00m records:\n\u001b[1;32m    657\u001b[0m         \u001b[38;5;28;01mreturn\u001b[39;00m records\n",
      "File \u001b[0;32m/opt/anaconda3/envs/mlipl2/lib/python3.10/site-packages/kafka/consumer/group.py:702\u001b[0m, in \u001b[0;36mKafkaConsumer._poll_once\u001b[0;34m(self, timeout_ms, max_records, update_offsets)\u001b[0m\n\u001b[1;32m    699\u001b[0m     \u001b[38;5;28mself\u001b[39m\u001b[38;5;241m.\u001b[39m_client\u001b[38;5;241m.\u001b[39mpoll(timeout_ms\u001b[38;5;241m=\u001b[39m\u001b[38;5;241m0\u001b[39m)\n\u001b[1;32m    701\u001b[0m timeout_ms \u001b[38;5;241m=\u001b[39m \u001b[38;5;28mmin\u001b[39m(timeout_ms, \u001b[38;5;28mself\u001b[39m\u001b[38;5;241m.\u001b[39m_coordinator\u001b[38;5;241m.\u001b[39mtime_to_next_poll() \u001b[38;5;241m*\u001b[39m \u001b[38;5;241m1000\u001b[39m)\n\u001b[0;32m--> 702\u001b[0m \u001b[38;5;28;43mself\u001b[39;49m\u001b[38;5;241;43m.\u001b[39;49m\u001b[43m_client\u001b[49m\u001b[38;5;241;43m.\u001b[39;49m\u001b[43mpoll\u001b[49m\u001b[43m(\u001b[49m\u001b[43mtimeout_ms\u001b[49m\u001b[38;5;241;43m=\u001b[39;49m\u001b[43mtimeout_ms\u001b[49m\u001b[43m)\u001b[49m\n\u001b[1;32m    703\u001b[0m \u001b[38;5;66;03m# after the long poll, we should check whether the group needs to rebalance\u001b[39;00m\n\u001b[1;32m    704\u001b[0m \u001b[38;5;66;03m# prior to returning data so that the group can stabilize faster\u001b[39;00m\n\u001b[1;32m    705\u001b[0m \u001b[38;5;28;01mif\u001b[39;00m \u001b[38;5;28mself\u001b[39m\u001b[38;5;241m.\u001b[39m_coordinator\u001b[38;5;241m.\u001b[39mneed_rejoin():\n",
      "File \u001b[0;32m/opt/anaconda3/envs/mlipl2/lib/python3.10/site-packages/kafka/client_async.py:602\u001b[0m, in \u001b[0;36mKafkaClient.poll\u001b[0;34m(self, timeout_ms, future)\u001b[0m\n\u001b[1;32m    599\u001b[0m             timeout \u001b[38;5;241m=\u001b[39m \u001b[38;5;28mmin\u001b[39m(timeout, \u001b[38;5;28mself\u001b[39m\u001b[38;5;241m.\u001b[39mconfig[\u001b[38;5;124m'\u001b[39m\u001b[38;5;124mretry_backoff_ms\u001b[39m\u001b[38;5;124m'\u001b[39m])\n\u001b[1;32m    600\u001b[0m         timeout \u001b[38;5;241m=\u001b[39m \u001b[38;5;28mmax\u001b[39m(\u001b[38;5;241m0\u001b[39m, timeout)  \u001b[38;5;66;03m# avoid negative timeouts\u001b[39;00m\n\u001b[0;32m--> 602\u001b[0m     \u001b[38;5;28;43mself\u001b[39;49m\u001b[38;5;241;43m.\u001b[39;49m\u001b[43m_poll\u001b[49m\u001b[43m(\u001b[49m\u001b[43mtimeout\u001b[49m\u001b[43m \u001b[49m\u001b[38;5;241;43m/\u001b[39;49m\u001b[43m \u001b[49m\u001b[38;5;241;43m1000\u001b[39;49m\u001b[43m)\u001b[49m\n\u001b[1;32m    604\u001b[0m \u001b[38;5;66;03m# called without the lock to avoid deadlock potential\u001b[39;00m\n\u001b[1;32m    605\u001b[0m \u001b[38;5;66;03m# if handlers need to acquire locks\u001b[39;00m\n\u001b[1;32m    606\u001b[0m responses\u001b[38;5;241m.\u001b[39mextend(\u001b[38;5;28mself\u001b[39m\u001b[38;5;241m.\u001b[39m_fire_pending_completed_requests())\n",
      "File \u001b[0;32m/opt/anaconda3/envs/mlipl2/lib/python3.10/site-packages/kafka/client_async.py:634\u001b[0m, in \u001b[0;36mKafkaClient._poll\u001b[0;34m(self, timeout)\u001b[0m\n\u001b[1;32m    631\u001b[0m \u001b[38;5;28mself\u001b[39m\u001b[38;5;241m.\u001b[39m_register_send_sockets()\n\u001b[1;32m    633\u001b[0m start_select \u001b[38;5;241m=\u001b[39m time\u001b[38;5;241m.\u001b[39mtime()\n\u001b[0;32m--> 634\u001b[0m ready \u001b[38;5;241m=\u001b[39m \u001b[38;5;28;43mself\u001b[39;49m\u001b[38;5;241;43m.\u001b[39;49m\u001b[43m_selector\u001b[49m\u001b[38;5;241;43m.\u001b[39;49m\u001b[43mselect\u001b[49m\u001b[43m(\u001b[49m\u001b[43mtimeout\u001b[49m\u001b[43m)\u001b[49m\n\u001b[1;32m    635\u001b[0m end_select \u001b[38;5;241m=\u001b[39m time\u001b[38;5;241m.\u001b[39mtime()\n\u001b[1;32m    636\u001b[0m \u001b[38;5;28;01mif\u001b[39;00m \u001b[38;5;28mself\u001b[39m\u001b[38;5;241m.\u001b[39m_sensors:\n",
      "File \u001b[0;32m/opt/anaconda3/envs/mlipl2/lib/python3.10/selectors.py:562\u001b[0m, in \u001b[0;36mKqueueSelector.select\u001b[0;34m(self, timeout)\u001b[0m\n\u001b[1;32m    560\u001b[0m ready \u001b[38;5;241m=\u001b[39m []\n\u001b[1;32m    561\u001b[0m \u001b[38;5;28;01mtry\u001b[39;00m:\n\u001b[0;32m--> 562\u001b[0m     kev_list \u001b[38;5;241m=\u001b[39m \u001b[38;5;28;43mself\u001b[39;49m\u001b[38;5;241;43m.\u001b[39;49m\u001b[43m_selector\u001b[49m\u001b[38;5;241;43m.\u001b[39;49m\u001b[43mcontrol\u001b[49m\u001b[43m(\u001b[49m\u001b[38;5;28;43;01mNone\u001b[39;49;00m\u001b[43m,\u001b[49m\u001b[43m \u001b[49m\u001b[43mmax_ev\u001b[49m\u001b[43m,\u001b[49m\u001b[43m \u001b[49m\u001b[43mtimeout\u001b[49m\u001b[43m)\u001b[49m\n\u001b[1;32m    563\u001b[0m \u001b[38;5;28;01mexcept\u001b[39;00m \u001b[38;5;167;01mInterruptedError\u001b[39;00m:\n\u001b[1;32m    564\u001b[0m     \u001b[38;5;28;01mreturn\u001b[39;00m ready\n",
      "\u001b[0;31mKeyboardInterrupt\u001b[0m: "
     ]
    }
   ],
   "source": [
    "# Create a consumer to read data from kafka\n",
    "# Ref: https://kafka-python.readthedocs.io/en/master/apidoc/KafkaConsumer.html\n",
    "\n",
    "# [TODO]: Complete the missing ... parameters/arguments using the Kafka documentation\n",
    "consumer = KafkaConsumer(\n",
    "    topic,\n",
    "    bootstrap_servers=['localhost:9092'],\n",
    "    auto_offset_reset='latest', #Experiment with different values\n",
    "    # Commit that an offset has been read\n",
    "    enable_auto_commit=True,\n",
    "    # How often to tell Kafka, an offset has been read\n",
    "    auto_commit_interval_ms=1000\n",
    ")\n",
    "\n",
    "print('Reading Kafka Broker')\n",
    "for message in consumer:\n",
    "    message = message.value.decode()\n",
    "    # Default message.value type is bytes!\n",
    "    print(loads(message))\n",
    "    os.system(f\"echo {message} >> kafka_log.csv\")"
   ]
  },
  {
   "cell_type": "markdown",
   "id": "38927152",
   "metadata": {},
   "source": [
    "# Use kcat!\n",
    "It's a CLI (Command Line Interface). Previously known as kafkacat\n",
    "\n",
    "\n",
    "Ref: https://docs.confluent.io/platform/current/app-development/kafkacat-usage.html"
   ]
  },
  {
   "cell_type": "code",
   "execution_count": 19,
   "id": "e19b63da",
   "metadata": {},
   "outputs": [
    {
     "name": "stdout",
     "output_type": "stream",
     "text": [
      "\"2025-01-22 21:25:48,Tokyo,24\\u00baC\"\n",
      "\"2025-01-22 21:25:49,Pittsburgh,18\\u00baC\"\n",
      "\"2025-01-22 21:25:50,Pittsburgh,20\\u00baC\"\n",
      "\"2025-01-22 21:25:51,Tokyo,30\\u00baC\"\n",
      "\"2025-01-22 21:25:52,Tokyo,18\\u00baC\"\n",
      "\"2025-01-22 21:25:53,Doha,24\\u00baC\"\n",
      "\"2025-01-22 21:25:54,Pittsburgh,31\\u00baC\"\n",
      "\"2025-01-22 21:25:55,Doha,28\\u00baC\"\n",
      "\"2025-01-22 21:25:56,Doha,20\\u00baC\"\n",
      "\"2025-01-22 21:25:57,Doha,21\\u00baC\"\n",
      "\"2025-01-22 22:40:39,Taipei,29\\u00baC\"\n",
      "\"2025-01-22 22:40:40,Taipei,30\\u00baC\"\n",
      "\"2025-01-22 22:40:41,Taipei,31\\u00baC\"\n",
      "\"2025-01-22 22:40:42,Taipei,28\\u00baC\"\n",
      "\"2025-01-22 22:40:43,Taipei,29\\u00baC\"\n",
      "\"2025-01-22 22:40:44,Pittsburgh,25\\u00baC\"\n",
      "\"2025-01-22 22:40:45,Taipei,30\\u00baC\"\n",
      "\"2025-01-22 22:40:46,Pittsburgh,18\\u00baC\"\n",
      "\"2025-01-22 22:40:47,Taipei,19\\u00baC\"\n",
      "\"2025-01-22 22:40:48,Pittsburgh,20\\u00baC\"\n",
      "\"2025-01-22 22:42:04,Pittsburgh,21\\u00baC\"\n",
      "\"2025-01-22 22:42:05,Pittsburgh,29\\u00baC\"\n",
      "\"2025-01-22 22:42:06,Pittsburgh,26\\u00baC\"\n",
      "\"2025-01-22 22:42:07,Taipei,26\\u00baC\"\n",
      "\"2025-01-22 22:42:08,Pittsburgh,25\\u00baC\"\n",
      "\"2025-01-22 22:42:09,Taipei,28\\u00baC\"\n",
      "\"2025-01-22 22:42:10,Taipei,26\\u00baC\"\n",
      "\"2025-01-22 22:42:11,Pittsburgh,22\\u00baC\"\n",
      "\"2025-01-22 22:42:12,Pittsburgh,18\\u00baC\"\n",
      "\"2025-01-22 22:42:13,Pittsburgh,25\\u00baC\"\n",
      "\"2025-01-22 22:42:36,Taipei,23\\u00baC\"\n",
      "\"2025-01-22 22:42:37,Taipei,21\\u00baC\"\n",
      "\"2025-01-22 22:42:38,Taipei,24\\u00baC\"\n",
      "\"2025-01-22 22:42:39,Taipei,20\\u00baC\"\n",
      "\"2025-01-22 22:42:40,Pittsburgh,18\\u00baC\"\n",
      "\"2025-01-22 22:42:41,Taipei,23\\u00baC\"\n",
      "\"2025-01-22 22:42:42,Pittsburgh,29\\u00baC\"\n",
      "\"2025-01-22 22:42:43,Pittsburgh,27\\u00baC\"\n",
      "\"2025-01-22 22:42:44,Taipei,18\\u00baC\"\n",
      "\"2025-01-22 22:42:45,Taipei,28\\u00baC\"\n",
      "\"2025-01-22 22:46:30,Taipei,32\\u00baC\"\n",
      "\"2025-01-22 22:46:30,Taipei,18\\u00baC\"\n",
      "\"2025-01-22 22:46:30,Pittsburgh,27\\u00baC\"\n",
      "\"2025-01-22 22:46:30,Pittsburgh,32\\u00baC\"\n",
      "\"2025-01-22 22:46:30,Taipei,27\\u00baC\"\n",
      "\"2025-01-22 22:46:30,Pittsburgh,23\\u00baC\"\n",
      "\"2025-01-22 22:46:31,Taipei,32\\u00baC\"\n",
      "\"2025-01-22 22:46:31,Pittsburgh,32\\u00baC\"\n",
      "\"2025-01-22 22:46:31,Pittsburgh,30\\u00baC\"\n",
      "\"2025-01-22 22:46:31,Pittsburgh,29\\u00baC\"\n",
      "\"2025-01-22 23:00:07,Taipei,28\\u00baC\"\n",
      "\"2025-01-22 23:00:07,Taipei,32\\u00baC\"\n",
      "\"2025-01-22 23:00:07,Taipei,30\\u00baC\"\n",
      "\"2025-01-22 23:00:07,Pittsburgh,26\\u00baC\"\n",
      "\"2025-01-22 23:00:07,Taipei,24\\u00baC\"\n",
      "\"2025-01-22 23:00:07,Taipei,19\\u00baC\"\n",
      "\"2025-01-22 23:00:07,Taipei,28\\u00baC\"\n",
      "\"2025-01-22 23:00:08,Pittsburgh,23\\u00baC\"\n",
      "\"2025-01-22 23:00:08,Pittsburgh,31\\u00baC\"\n",
      "\"2025-01-22 23:00:08,Taipei,28\\u00baC\"\n",
      "\"2025-01-22 23:31:46,Miami,20\\u00baC\"\n",
      "\"2025-01-22 23:31:47,Miami,27\\u00baC\"\n",
      "\"2025-01-22 23:31:48,Los Angeles,25\\u00baC\"\n",
      "\"2025-01-22 23:31:49,Los Angeles,23\\u00baC\"\n",
      "\"2025-01-22 23:31:50,New York,30\\u00baC\"\n",
      "\"2025-01-22 23:31:51,Los Angeles,23\\u00baC\"\n",
      "\"2025-01-22 23:31:52,New York,19\\u00baC\"\n",
      "\"2025-01-22 23:31:53,Los Angeles,21\\u00baC\"\n",
      "\"2025-01-22 23:31:54,Miami,18\\u00baC\"\n",
      "\"2025-01-22 23:31:55,Los Angeles,28\\u00baC\"\n",
      "\"2025-01-23 08:25:54,Bangalore,32\\u00baC\"\n",
      "\"2025-01-23 08:25:55,Mumbai,22\\u00baC\"\n",
      "\"2025-01-23 08:25:56,Bangalore,24\\u00baC\"\n",
      "\"2025-01-23 08:25:57,Rome,25\\u00baC\"\n",
      "\"2025-01-23 08:25:58,Rome,32\\u00baC\"\n",
      "\"2025-01-23 08:25:59,Mumbai,19\\u00baC\"\n",
      "\"2025-01-23 08:26:00,Rome,29\\u00baC\"\n",
      "\"2025-01-23 08:26:01,Rome,25\\u00baC\"\n",
      "\"2025-01-23 08:26:02,San Francisco,28\\u00baC\"\n",
      "\"2025-01-23 08:26:03,Rome,26\\u00baC\"\n",
      "\"2025-01-23 08:31:15,San Francisco,25\\u00baC\"\n",
      "\"2025-01-23 08:31:16,San Francisco,29\\u00baC\"\n",
      "\"2025-01-23 08:31:17,San Francisco,30\\u00baC\"\n",
      "\"2025-01-23 08:31:18,Rome,22\\u00baC\"\n",
      "\"2025-01-23 08:31:19,Rome,31\\u00baC\"\n",
      "\"2025-01-23 08:31:20,Rome,24\\u00baC\"\n",
      "\"2025-01-23 08:31:21,San Francisco,26\\u00baC\"\n",
      "\"2025-01-23 08:31:22,Bangalore,32\\u00baC\"\n",
      "\"2025-01-23 08:31:23,Mumbai,29\\u00baC\"\n",
      "\"2025-01-23 08:31:24,Rome,25\\u00baC\"\n",
      "\"2025-01-23 10:03:17,NYC,18\\u00baC\"\n",
      "\"2025-01-23 10:03:18,NYC,20\\u00baC\"\n",
      "\"2025-01-23 10:03:19,LA,28\\u00baC\"\n",
      "\"2025-01-23 10:03:20,NYC,27\\u00baC\"\n",
      "\"2025-01-23 10:03:21,London,29\\u00baC\"\n",
      "\"2025-01-23 10:03:22,NYC,26\\u00baC\"\n",
      "\"2025-01-23 10:03:23,LA,20\\u00baC\"\n",
      "\"2025-01-23 10:03:24,London,19\\u00baC\"\n",
      "\"2025-01-23 10:03:25,Cochin,28\\u00baC\"\n",
      "\"2025-01-23 10:03:26,NYC,23\\u00baC\"\n",
      "\"2025-01-23 10:47:18,Pittsburgh,26\\u00baC\"\n",
      "\"2025-01-23 10:47:19,Pittsburgh,27\\u00baC\"\n",
      "\"2025-01-23 10:47:20,Boston,30\\u00baC\"\n",
      "\"2025-01-23 10:47:21,Moline,24\\u00baC\"\n",
      "\"2025-01-23 10:47:22,Mumbai,18\\u00baC\"\n",
      "\"2025-01-23 10:47:23,Boston,29\\u00baC\"\n",
      "\"2025-01-23 10:47:24,Chicago,19\\u00baC\"\n",
      "\"2025-01-23 10:47:25,Chicago,24\\u00baC\"\n",
      "\"2025-01-23 10:47:26,Mumbai,19\\u00baC\"\n",
      "\"2025-01-23 10:47:27,Mumbai,31\\u00baC\"\n",
      "\"2025-01-23 12:53:26,Austin,31\\u00baC\"\n",
      "\"2025-01-23 12:53:27,Fort Worth,19\\u00baC\"\n",
      "\"2025-01-23 12:53:28,Austin,27\\u00baC\"\n",
      "\"2025-01-23 12:53:29,Fort Worth,31\\u00baC\"\n",
      "\"2025-01-23 12:53:30,Columbus,18\\u00baC\"\n",
      "\"2025-01-23 12:53:31,Pittsburgh,23\\u00baC\"\n",
      "\"2025-01-23 12:53:32,Pittsburgh,30\\u00baC\"\n",
      "\"2025-01-23 12:53:33,Austin,30\\u00baC\"\n",
      "\"2025-01-23 12:53:34,Fort Worth,29\\u00baC\"\n",
      "\"2025-01-23 12:53:35,Pittsburgh,22\\u00baC\"\n",
      "\"2025-01-23 13:03:54,London,22\\u00baC\"\n",
      "\"2025-01-23 13:03:55,Tokyo,22\\u00baC\"\n",
      "\"2025-01-23 13:03:56,Pittsburgh,32\\u00baC\"\n",
      "\"2025-01-23 13:03:57,London,18\\u00baC\"\n",
      "\"2025-01-23 13:03:58,Tokyo,31\\u00baC\"\n",
      "\"2025-01-23 13:03:59,Bangalore,19\\u00baC\"\n",
      "\"2025-01-23 13:04:00,London,24\\u00baC\"\n",
      "\"2025-01-23 13:04:01,Pittsburgh,28\\u00baC\"\n",
      "\"2025-01-23 13:04:02,Tokyo,22\\u00baC\"\n",
      "\"2025-01-23 13:04:03,Pittsburgh,27\\u00baC\"\n",
      "\"2025-01-23 13:07:43,Pittsburgh,29\\u00baC\"\n",
      "\"2025-01-23 13:07:44,Pittsburgh,26\\u00baC\"\n",
      "\"2025-01-23 13:07:45,Pittsburgh,24\\u00baC\"\n",
      "\"2025-01-23 13:07:46,Pittsburgh,27\\u00baC\"\n",
      "\"2025-01-23 13:07:47,Columbus,27\\u00baC\"\n",
      "\"2025-01-23 13:07:48,Columbus,20\\u00baC\"\n",
      "\"2025-01-23 13:07:49,Austin,30\\u00baC\"\n",
      "\"2025-01-23 13:07:50,Columbus,29\\u00baC\"\n",
      "\"2025-01-23 13:07:51,Columbus,20\\u00baC\"\n",
      "\"2025-01-23 13:07:52,Fort Worth,31\\u00baC\"\n",
      "\"2025-01-23 13:10:03,Pittsburgh,21\\u00baC\"\n",
      "\"2025-01-23 13:10:04,Austin,22\\u00baC\"\n",
      "\"2025-01-23 13:10:05,Pittsburgh,32\\u00baC\"\n",
      "\"2025-01-23 13:10:06,Fort Worth,32\\u00baC\"\n",
      "\"2025-01-23 13:10:07,Austin,30\\u00baC\"\n",
      "\"2025-01-23 13:10:08,Columbus,24\\u00baC\"\n",
      "\"2025-01-23 13:10:09,Fort Worth,21\\u00baC\"\n",
      "\"2025-01-23 13:10:10,Pittsburgh,29\\u00baC\"\n",
      "\"2025-01-23 13:10:11,Pittsburgh,23\\u00baC\"\n",
      "\"2025-01-23 13:10:12,Fort Worth,19\\u00baC\"\n",
      "\"2025-01-23 13:11:10,Austin,18\\u00baC\"\n",
      "\"2025-01-23 13:11:11,Columbus,22\\u00baC\"\n",
      "\"2025-01-23 13:11:12,Columbus,28\\u00baC\"\n",
      "\"2025-01-23 13:11:13,Pittsburgh,24\\u00baC\"\n",
      "\"2025-01-23 13:11:14,Fort Worth,18\\u00baC\"\n",
      "\"2025-01-23 13:11:15,Columbus,29\\u00baC\"\n",
      "\"2025-01-23 13:11:16,Columbus,21\\u00baC\"\n",
      "\"2025-01-23 13:11:17,Fort Worth,32\\u00baC\"\n",
      "\"2025-01-23 13:11:18,Austin,31\\u00baC\"\n",
      "\"2025-01-23 13:11:19,Columbus,25\\u00baC\"\n",
      "% Reached end of topic recitation-b [0] at offset 160\n",
      "^C\n"
     ]
    }
   ],
   "source": [
    "#kcat command: connect to local Kafka broker, specify a topic, and consume messages from the earliest offset\n",
    "!kcat -b localhost:9092 -t recitation-b -C -o beginning"
   ]
  },
  {
   "cell_type": "code",
   "execution_count": null,
   "id": "3ec8d593-8d4c-45f4-a5cd-373074629564",
   "metadata": {},
   "outputs": [],
   "source": []
  }
 ],
 "metadata": {
  "kernelspec": {
   "display_name": "mlipl2",
   "language": "python",
   "name": "mlipl2"
  },
  "language_info": {
   "codemirror_mode": {
    "name": "ipython",
    "version": 3
   },
   "file_extension": ".py",
   "mimetype": "text/x-python",
   "name": "python",
   "nbconvert_exporter": "python",
   "pygments_lexer": "ipython3",
   "version": "3.10.16"
  }
 },
 "nbformat": 4,
 "nbformat_minor": 5
}
